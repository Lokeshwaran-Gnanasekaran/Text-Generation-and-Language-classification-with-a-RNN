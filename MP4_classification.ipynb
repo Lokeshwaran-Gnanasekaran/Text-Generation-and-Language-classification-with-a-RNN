{
 "cells": [
  {
   "cell_type": "code",
   "execution_count": 19,
   "metadata": {
    "tags": []
   },
   "outputs": [],
   "source": [
    "import os\n",
    "import time\n",
    "import math\n",
    "import glob\n",
    "import string\n",
    "import random \n",
    "\n",
    "import torch\n",
    "import torch.nn as nn\n",
    "\n",
    "from rnn.helpers import time_since\n",
    "\n",
    "%matplotlib inline"
   ]
  },
  {
   "cell_type": "code",
   "execution_count": 20,
   "metadata": {
    "tags": []
   },
   "outputs": [],
   "source": [
    "device = torch.device(\"cuda:0\" if torch.cuda.is_available() else \"cpu\")"
   ]
  },
  {
   "cell_type": "markdown",
   "metadata": {},
   "source": [
    "# Language recognition with an RNN\n",
    "\n",
    "If you've ever used an online translator you've probably seen a feature that automatically detects the input language. While this might be easy to do if you input unicode characters that are unique to one or a small group of languages (like \"你好\" or \"γεια σας\"), this problem is more challenging if the input only uses the available ASCII characters. In this case, something like \"těší mě\" would beome \"tesi me\" in the ascii form. This is a more challenging problem in which the language must be recognized purely by the pattern of characters rather than unique unicode characters.\n",
    "\n",
    "We will train an RNN to solve this problem for a small set of languages thta can be converted to romanized ASCII form. For training data it would be ideal to have a large and varied dataset in different language styles. However, it is easy to find copies of the Bible which is a large text translated to different languages but in the same easily parsable format, so we will use 20 different copies of the Bible as training data. Using the same book for all of the different languages will hopefully prevent minor overfitting that might arise if we used different books for each language (fitting to common characteristics of the individual books rather than the language)."
   ]
  },
  {
   "cell_type": "code",
   "execution_count": 21,
   "metadata": {
    "tags": []
   },
   "outputs": [
    {
     "name": "stdout",
     "output_type": "stream",
     "text": [
      "tesi me\n",
      "100\n"
     ]
    }
   ],
   "source": [
    "from unidecode import unidecode as unicodeToAscii\n",
    "\n",
    "all_characters = string.printable\n",
    "n_letters = len(all_characters)\n",
    "\n",
    "print(unicodeToAscii('těší mě'))\n",
    "print(n_letters)"
   ]
  },
  {
   "cell_type": "code",
   "execution_count": 22,
   "metadata": {
    "tags": []
   },
   "outputs": [],
   "source": [
    "# Read a file and split into lines\n",
    "def readFile(filename):\n",
    "    data = open(filename, encoding='utf-8').read().strip()\n",
    "    return unicodeToAscii(data)\n",
    "\n",
    "def get_category_data(data_path):\n",
    "    # Build the category_data dictionary, a list of names per language\n",
    "    category_data = {}\n",
    "    all_categories = []\n",
    "    for filename in glob.glob(data_path):\n",
    "        category = os.path.splitext(os.path.basename(filename))[0].split('_')[0]\n",
    "        all_categories.append(category)\n",
    "        data = readFile(filename)\n",
    "        category_data[category] = data\n",
    "    \n",
    "    return category_data, all_categories"
   ]
  },
  {
   "cell_type": "markdown",
   "metadata": {},
   "source": [
    "The original text is split into two parts, train and test, so that we can make sure that the model is not simply memorizing the train data."
   ]
  },
  {
   "cell_type": "code",
   "execution_count": 23,
   "metadata": {
    "tags": []
   },
   "outputs": [
    {
     "name": "stdout",
     "output_type": "stream",
     "text": [
      "20\n",
      "['albanian', 'czech', 'danish', 'english', 'esperanto', 'finnish', 'french', 'german', 'hungarian', 'italian', 'lithuanian', 'maori', 'norwegian', 'portuguese', 'romanian', 'spanish', 'swedish', 'turkish', 'vietnamese', 'xhosa']\n"
     ]
    }
   ],
   "source": [
    "train_data_path = 'language_data/train/*_train.txt'\n",
    "test_data_path = 'language_data/test/*_test.txt'\n",
    "\n",
    "train_category_data, all_categories = get_category_data(train_data_path)\n",
    "test_category_data, test_all_categories = get_category_data(test_data_path)\n",
    "\n",
    "n_languages = len(all_categories)\n",
    "\n",
    "print(len(all_categories))\n",
    "print(all_categories)"
   ]
  },
  {
   "cell_type": "markdown",
   "metadata": {},
   "source": [
    "# Data processing"
   ]
  },
  {
   "cell_type": "code",
   "execution_count": 24,
   "metadata": {
    "tags": []
   },
   "outputs": [],
   "source": [
    "def categoryFromOutput(output):\n",
    "    top_n, top_i = output.topk(1, dim=1)\n",
    "    category_i = top_i[:, 0]\n",
    "    return category_i\n",
    "\n",
    "# Turn string into long tensor\n",
    "def stringToTensor(string):\n",
    "    tensor = torch.zeros(len(string), requires_grad=True).long()\n",
    "    for c in range(len(string)):\n",
    "        tensor[c] = all_characters.index(string[c])\n",
    "    return tensor\n",
    "\n",
    "def load_random_batch(text, chunk_len, batch_size):\n",
    "    input_data = torch.zeros(batch_size, chunk_len).long().to(device)\n",
    "    target = torch.zeros(batch_size, 1).long().to(device)\n",
    "    input_text = []\n",
    "    for i in range(batch_size):\n",
    "        category = all_categories[random.randint(0, len(all_categories) - 1)]\n",
    "        line_start = random.randint(0, len(text[category])-chunk_len)\n",
    "        category_tensor = torch.tensor([all_categories.index(category)], dtype=torch.long)\n",
    "        line = text[category][line_start:line_start+chunk_len]\n",
    "        input_text.append(line)\n",
    "        input_data[i] = stringToTensor(line)\n",
    "        target[i] = category_tensor\n",
    "    return input_data, target, input_text"
   ]
  },
  {
   "cell_type": "markdown",
   "metadata": {},
   "source": [
    "Implement Model\n",
    "====================\n",
    "\n",
    "For this classification task, we can use the same model we implement for the generation task which is located in `rnn/model.py`. See the `MP4_generation.ipynb` notebook for more instructions. In this case each output vector of our RNN will have the dimension of the number of possible languages (i.e. `n_languages`). We will use this vector to predict a distribution over the languages.\n",
    "\n",
    "In the generation task, we used the output of the RNN at every time step to predict the next letter and our loss included the output from each of these predictions. However, in this task we use the output of the RNN at the end of the sequence to predict the language, so our loss function will use only the predicted output from the last time step.\n",
    "\n"
   ]
  },
  {
   "cell_type": "markdown",
   "metadata": {},
   "source": [
    "# Train RNN"
   ]
  },
  {
   "cell_type": "code",
   "execution_count": 25,
   "metadata": {
    "tags": []
   },
   "outputs": [],
   "source": [
    "from rnn.model import RNN"
   ]
  },
  {
   "cell_type": "code",
   "execution_count": 26,
   "metadata": {
    "tags": []
   },
   "outputs": [],
   "source": [
    "chunk_len = 50\n",
    "\n",
    "BATCH_SIZE = 100\n",
    "n_epochs = 2000\n",
    "hidden_size = 300\n",
    "n_layers = 2\n",
    "learning_rate = 0.001\n",
    "model_type = 'lstm'\n",
    "\n",
    "criterion = nn.CrossEntropyLoss()\n",
    "rnn  = RNN(n_letters, hidden_size, n_languages, model_type=model_type, n_layers=n_layers, bidirectional=True, dropout=0.5).to(device)\n"
   ]
  },
  {
   "cell_type": "markdown",
   "metadata": {},
   "source": [
    "**TODO:** Fill in the train function. You should initialize a hidden layer representation using your RNN's `init_hidden` function, set the model gradients to zero, and loop over each time step (character) in the input tensor. For each time step compute the output of the of the RNN and the next hidden layer representation. The cross entropy loss should be computed over the last RNN output scores from the end of the sequence and the target classification tensor. Lastly, call backward on the loss and take an optimizer step."
   ]
  },
  {
   "cell_type": "code",
   "execution_count": 27,
   "metadata": {
    "tags": []
   },
   "outputs": [],
   "source": [
    "def train(rnn, target_tensor, data_tensor, optimizer, criterion, batch_size=BATCH_SIZE):\n",
    "    \"\"\"\n",
    "    Inputs:\n",
    "    - rnn: model\n",
    "    - target_target: target character data tensor of shape (batch_size, 1)\n",
    "    - data_tensor: input character data tensor of shape (batch_size, chunk_len)\n",
    "    - optimizer: rnn model optimizer\n",
    "    - criterion: loss function\n",
    "    - batch_size: data batch size\n",
    "    \n",
    "    Returns:\n",
    "    - output: output from RNN from end of sequence \n",
    "    - loss: computed loss value as python float\n",
    "    \n",
    "    \"\"\"\n",
    "    \n",
    "    output, loss = None, None\n",
    "    \n",
    "    ####################################\n",
    "    #          YOUR CODE HERE          #\n",
    "    ####################################\n",
    "    hidden = rnn.init_hidden(batch_size, device=device) \n",
    "    optimizer.zero_grad()  \n",
    "\n",
    "    for i in range(data_tensor.size(1)):\n",
    "        output, hidden = rnn(data_tensor[:, i], hidden) \n",
    "\n",
    "    loss = criterion(output, target_tensor.squeeze())  \n",
    "    loss.backward()  \n",
    "    optimizer.step()\n",
    "   \n",
    "    return output, loss.item()\n",
    "    ##########       END      ##########\n"
   ]
  },
  {
   "cell_type": "code",
   "execution_count": 28,
   "metadata": {
    "tags": []
   },
   "outputs": [],
   "source": [
    "def evaluate(rnn, data_tensor, seq_len=chunk_len, batch_size=BATCH_SIZE):\n",
    "    with torch.no_grad():\n",
    "        data_tensor = data_tensor.to(device)\n",
    "        hidden = rnn.init_hidden(batch_size, device=device)\n",
    "        for i in range(seq_len):\n",
    "            output, hidden = rnn(data_tensor[:,i], hidden)\n",
    "        \n",
    "        return output\n",
    "    \n",
    "def eval_test(rnn, category_tensor, data_tensor):\n",
    "    with torch.no_grad():\n",
    "        output = evaluate(rnn, data_tensor)\n",
    "        loss = criterion(output, category_tensor.squeeze())\n",
    "        return output, loss.item()"
   ]
  },
  {
   "cell_type": "code",
   "execution_count": 29,
   "metadata": {
    "scrolled": true,
    "tags": []
   },
   "outputs": [
    {
     "name": "stdout",
     "output_type": "stream",
     "text": [
      "50 1% (0m 4s) 2.1725 2.0630 leri yaratan RAB,<br />Dunyayi yaratip bicimlendir / turkish ✓\n",
      "Train accuracy: 0.1556\n",
      "100 2% (0m 8s) 1.3670 1.2649 a tu quebradura; tu herida se encrudecio: todos lo / french ✗ (spanish)\n",
      "Train accuracy: 0.4123\n",
      "150 3% (0m 12s) 1.0685 1.1496  forth unto the valley of the son of Hinnom, which / english ✓\n",
      "Train accuracy: 0.5655\n",
      "200 4% (0m 16s) 1.0647 0.9701 , eshte rezervuar nje korrje, kur do ta kthej popu / albanian ✓\n",
      "Train accuracy: 0.6189\n",
      "250 5% (0m 20s) 0.9510 0.8395 maj Judoj, ekzorcistoj, entreprenis nomi super tiu / czech ✗ (esperanto)\n",
      "Train accuracy: 0.6717\n",
      "300 6% (0m 24s) 0.8020 0.7171 kuphuma eYerusalem abaseleyo, nabasindileyo entabe / finnish ✗ (xhosa)\n",
      "Train accuracy: 0.6828\n",
      "350 7% (0m 28s) 0.7675 0.6706 rs, slavind pe Dumnezeu cu glas tare. S'a aruncat  / romanian ✓\n",
      "Train accuracy: 0.7182\n",
      "400 8% (0m 32s) 0.7355 0.6487 d till jorden kastade han Israels harlighet. Han v / swedish ✓\n",
      "Train accuracy: 0.7596\n",
      "450 9% (0m 36s) 0.5829 0.6032 . Kaj li iris, kaj prenis Gomeron, filinon de Dibl / esperanto ✓\n",
      "Train accuracy: 0.7788\n",
      "500 10% (0m 40s) 0.6596 0.6181  dal lato di settentrione verso Hannathon, e facea / italian ✓\n",
      "Train accuracy: 0.7941\n",
      "550 11% (0m 44s) 0.4131 0.4275  vorbeau intre ei despre tot ce se intimplase. Pe  / french ✗ (romanian)\n",
      "Train accuracy: 0.8092\n",
      "600 12% (0m 48s) 0.5250 0.4943 n, e l'attaccarono. Allora i Gabaoniti mandarono a / italian ✓\n",
      "Train accuracy: 0.8225\n",
      "650 13% (0m 53s) 0.3569 0.3769 fering; and it shall be accepted for him to make a / english ✓\n",
      "Train accuracy: 0.8465\n",
      "700 14% (0m 57s) 0.4451 0.4000 vysel ven a oznamil Hospodinova slova lidu. Shroma / czech ✓\n",
      "Train accuracy: 0.8459\n",
      "750 15% (1m 1s) 0.4069 0.3007  mitt folk sasom en fiende. I sliten manteln bort  / norwegian ✗ (swedish)\n",
      "Train accuracy: 0.8613\n",
      "800 16% (1m 5s) 0.3475 0.3978 \". Nuk i keni pyetur ata qe udhetojne dhe nuk i nj / albanian ✓\n",
      "Train accuracy: 0.879\n",
      "850 17% (1m 9s) 0.2623 0.2649 Dion, kies vorton mi gloras,   Tiun Dion mi fidas; / esperanto ✓\n",
      "Train accuracy: 0.886\n",
      "900 18% (1m 13s) 0.3621 0.2264  faris militon kontraux Bera, regxo de Sodom, kaj  / esperanto ✓\n",
      "Train accuracy: 0.8958\n",
      "950 19% (1m 17s) 0.3488 0.3634 e ne si prende ne si da moglie; ma i risorti son c / italian ✓\n",
      "Train accuracy: 0.901\n",
      "1000 20% (1m 21s) 0.2542 0.2031 ta ved helligdommen, det som Israels barn skulde v / norwegian ✓\n",
      "Train accuracy: 0.9079\n",
      "1050 21% (1m 25s) 0.2187 0.2274 ispose loro: \"Io non regnero su voi, ne il mio fig / italian ✓\n",
      "Train accuracy: 0.9127\n",
      "1100 22% (1m 29s) 0.2268 0.2107 mojo menesio keturioliktos dienos vakare pradesite / lithuanian ✓\n",
      "Train accuracy: 0.9092\n",
      "1150 23% (1m 33s) 0.1296 0.1390 e Jehova se aparto de el, para no destruirlo del t / spanish ✓\n",
      "Train accuracy: 0.9245\n",
      "1200 24% (1m 37s) 0.2109 0.1970 nt. Visas vanduo upeje pavirto krauju. Upeje plauk / lithuanian ✓\n",
      "Train accuracy: 0.9237\n",
      "1250 25% (1m 42s) 0.1794 0.1618 vo. Se vi havas prudenton, auxskultu cxi tion;   A / esperanto ✓\n",
      "Train accuracy: 0.9253\n",
      "1300 26% (1m 46s) 0.1523 0.1426 d As esu Viespats' \". As pranasavau, kaip Jis man  / lithuanian ✓\n",
      "Train accuracy: 0.9319\n",
      "1350 27% (1m 50s) 0.1692 0.1410 ta din nastas hustru i din famn? Se, for HERRENS o / swedish ✓\n",
      "Train accuracy: 0.9353\n",
      "1400 28% (1m 54s) 0.1439 0.1503  rundt om dig, og en Tredjedel spreder jeg for all / norwegian ✗ (danish)\n",
      "Train accuracy: 0.9426\n",
      "1450 28% (1m 58s) 0.1959 0.2457 apsiani enka halua vapaaksi', niin isanta viekoon  / finnish ✓\n",
      "Train accuracy: 0.941\n",
      "1500 30% (2m 2s) 0.1920 0.1272  vil tilgive eders Overtraedelser og Synder. Nar I / danish ✓\n",
      "Train accuracy: 0.9414\n",
      "1550 31% (2m 6s) 0.1540 0.1735 nu icke litet trostade. Men vi andra gingo i forva / swedish ✓\n",
      "Train accuracy: 0.9463\n",
      "1600 32% (2m 10s) 0.1387 0.1264 han hankki, han ei saa iloita, koska han murskasi  / finnish ✓\n",
      "Train accuracy: 0.9489\n",
      "1650 33% (2m 14s) 0.1209 0.1580 oi sent Joram his son unto king David, to salute h / english ✓\n",
      "Train accuracy: 0.9544\n",
      "1700 34% (2m 18s) 0.1240 0.1373 n si fara render conto a quelli in mano ai quali s / italian ✓\n",
      "Train accuracy: 0.9551\n",
      "1750 35% (2m 22s) 0.1586 0.1200 ce: ?No te vi yo en el huerto con el? Y nego Pedro / spanish ✓\n",
      "Train accuracy: 0.9558\n",
      "1800 36% (2m 26s) 0.2166 0.1719 hethe ngako, umgwaze,  umngcwabe, uwasuse kum nakw / xhosa ✓\n",
      "Train accuracy: 0.9602\n",
      "1850 37% (2m 30s) 0.0984 0.1241 de razboi vor pieri in ziua aceea, zice Domnul.``  / romanian ✓\n",
      "Train accuracy: 0.9569\n",
      "1900 38% (2m 35s) 0.0995 0.0825 gata ranei kei konei? ka mea atu koe, Kahore. Kata / maori ✓\n",
      "Train accuracy: 0.9623\n",
      "1950 39% (2m 39s) 0.0565 0.1150 o karalius ir kunigaikscius, kad jie taptu apleist / lithuanian ✓\n",
      "Train accuracy: 0.9655\n",
      "2000 40% (2m 43s) 0.1109 0.0864  P I tangohia ake hoki e ia te koroka o Iraia i ma / maori ✓\n",
      "Train accuracy: 0.9639\n",
      "2050 41% (2m 47s) 0.0648 0.0585 sas?\" Jonas jiems atsake: \"As krikstiju vandeniu,b / lithuanian ✓\n",
      "Train accuracy: 0.9678\n",
      "2100 42% (2m 51s) 0.0962 0.0785 and] brought to nought; for in a night Kir of Moab / english ✓\n",
      "Train accuracy: 0.9635\n",
      "2150 43% (2m 55s) 0.0905 0.0730 vele. Mikor pedig eljott az ideje minden leanynak, / hungarian ✓\n",
      "Train accuracy: 0.9699\n",
      "2200 44% (2m 59s) 0.1660 0.1540 esiu keliu atvykome i Kosa, o kita diena i Roda ir / lithuanian ✓\n",
      "Train accuracy: 0.9686\n",
      "2250 45% (3m 3s) 0.0911 0.0806 rezere, ephambi kwawo. Kwaxelwa kuDavide; wahlanga / xhosa ✓\n",
      "Train accuracy: 0.9624\n",
      "2300 46% (3m 7s) 0.0700 0.0439 lmustu. Yahudi soydaslari arasinda saygi goren ve  / turkish ✓\n",
      "Train accuracy: 0.9689\n",
      "2350 47% (3m 11s) 0.0586 0.0987 thi kwabo, benababhali, babesithi, Abanye wabasind / xhosa ✓\n",
      "Train accuracy: 0.9711\n",
      "2400 48% (3m 15s) 0.0683 0.0763 afazi nabantwana bethu babe lixhoba?  Akusilungele / xhosa ✓\n",
      "Train accuracy: 0.9725\n",
      "2450 49% (3m 19s) 0.0878 0.0770 ethesse, osvenyei valtozokka lettek, a nelkul, hog / hungarian ✓\n",
      "Train accuracy: 0.9685\n",
      "2500 50% (3m 23s) 0.0436 0.0352 aseBhabheli, nithi, Utheni na ukupheza umqhubi! uk / xhosa ✓\n",
      "Train accuracy: 0.9728\n",
      "2550 51% (3m 27s) 0.0954 0.0846  \"Miksi te noin pelkaatte? Eiko teilla vielakaan o / finnish ✓\n",
      "Train accuracy: 0.9748\n",
      "2600 52% (3m 31s) 0.0794 0.0877 da tribo dos filhos de Juda e da tribo dos filhos  / portuguese ✓\n",
      "Train accuracy: 0.9731\n",
      "2650 53% (3m 36s) 0.0682 0.0801 e, des mandragores de ton fils. Et elle lui repond / french ✓\n",
      "Train accuracy: 0.9734\n",
      "2700 54% (3m 40s) 0.0379 0.0418  se hicieron cuevas en los montes, y cavernas, y l / spanish ✓\n",
      "Train accuracy: 0.9776\n",
      "2750 55% (3m 44s) 0.1023 0.1262 g bier pa dit Ord. Vig fra mig, I, som gor ondt, j / danish ✓\n",
      "Train accuracy: 0.9772\n",
      "2800 56% (3m 48s) 0.0926 0.0830 n keredzett David tolem, hogy elmehessen Bethlehem / hungarian ✓\n",
      "Train accuracy: 0.9758\n",
      "2850 56% (3m 52s) 0.1028 0.0687 sias, ao excelentissimo governador Felix, saude. E / esperanto ✗ (portuguese)\n",
      "Train accuracy: 0.976\n",
      "2900 57% (3m 56s) 0.0733 0.0837 ankkimaan niiden selkaan ratsastajat. Kuinka siis  / finnish ✓\n",
      "Train accuracy: 0.9775\n",
      "2950 59% (4m 0s) 0.1361 0.1303  indiler. Yer onlarin uzerine kapandi. Toplulugun  / turkish ✓\n",
      "Train accuracy: 0.9763\n",
      "3000 60% (4m 4s) 0.0472 0.0139 amokslu to, ka sita tauta vadina samokslu. Nebijok / finnish ✗ (lithuanian)\n",
      "Train accuracy: 0.9812\n",
      "3050 61% (4m 8s) 0.0806 0.0482 e pays d'Egypte. Pendant six annees tu semeras la  / french ✓\n",
      "Train accuracy: 0.9804\n",
      "3100 62% (4m 12s) 0.0650 0.0466 an aber brachte das Buch zum Konig und meldete dem / german ✓\n",
      "Train accuracy: 0.9792\n",
      "3150 63% (4m 16s) 0.0738 0.0555 RREN saledes med denne store By?\" Og man skal svar / danish ✓\n",
      "Train accuracy: 0.9804\n",
      "3200 64% (4m 20s) 0.0238 0.0626 meurons ici, nous mourrons egalement. Venez donc,  / french ✓\n",
      "Train accuracy: 0.9807\n",
      "3250 65% (4m 24s) 0.1071 0.1012 ntot dans les places, elle epiait a chaque coin. E / french ✓\n",
      "Train accuracy: 0.9821\n",
      "3300 66% (4m 28s) 0.0359 0.0345 Hadar'ezer og slaet ham - Hadar'ezer havde nemlig  / danish ✓\n",
      "Train accuracy: 0.9823\n",
      "3350 67% (4m 33s) 0.0320 0.0204  HERRN! Denn sein Name allein ist erhaben, sein Gl / german ✓\n",
      "Train accuracy: 0.9813\n",
      "3400 68% (4m 37s) 0.0646 0.0822 izdan kalmadir- Sabat Gunu birini sunnet edersiniz / turkish ✓\n",
      "Train accuracy: 0.9801\n",
      "3450 69% (4m 41s) 0.0378 0.0256  han skal tage af mit og forkynde eder. Alt, hvad  / danish ✓\n",
      "Train accuracy: 0.9797\n",
      "3500 70% (4m 45s) 0.0262 0.0410 a a uzka cesta, ktera vede k zivotu, a malokdo ji  / czech ✓\n",
      "Train accuracy: 0.983\n",
      "3550 71% (4m 49s) 0.0685 0.0417 terre; a tout moment l'effroi les saisit; ils sont / french ✓\n",
      "Train accuracy: 0.9822\n",
      "3600 72% (4m 53s) 0.0137 0.0138 tnich rukou! Pro predniho zpevaka. Daviduv, zalm.  / czech ✓\n",
      "Train accuracy: 0.9809\n",
      "3650 73% (4m 57s) 0.0534 0.0792 li han miten suuri ja mahtava hyvansa, ole vaatinu / finnish ✓\n",
      "Train accuracy: 0.9835\n",
      "3700 74% (5m 1s) 0.0338 0.0392 ip gyvas Viespats, kuris isvadavo mane is visokiu  / lithuanian ✓\n",
      "Train accuracy: 0.9826\n",
      "3750 75% (5m 5s) 0.0740 0.0763  estis punita, mi batis min sur la femurojn; mi ho / esperanto ✓\n",
      "Train accuracy: 0.983\n",
      "3800 76% (5m 9s) 0.0622 0.0706 utea sa fac niciun lucru, fie mic fie mare, impotr / romanian ✓\n",
      "Train accuracy: 0.9829\n",
      "3850 77% (5m 13s) 0.0324 0.0570 in buk med det. For det har vaert et anstot til mi / norwegian ✓\n",
      "Train accuracy: 0.9814\n",
      "3900 78% (5m 17s) 0.0299 0.0402 che au combat, car mon courroux va eclater contre  / french ✓\n",
      "Train accuracy: 0.984\n",
      "3950 79% (5m 21s) 0.0901 0.0447 mo, han trasgredito il patto, si son condotti perf / italian ✓\n",
      "Train accuracy: 0.9822\n",
      "4000 80% (5m 26s) 0.0888 0.0366 ro; du partojn li mezuris por mortigi, kaj unu ple / esperanto ✓\n",
      "Train accuracy: 0.983\n",
      "4050 81% (5m 30s) 0.0410 0.0205 l ham: Ja, Herre! jeg tror at du er Messias, Guds  / norwegian ✓\n",
      "Train accuracy: 0.9853\n",
      "4100 82% (5m 34s) 0.0289 0.0210 santo, (el que lee, entienda), Entonces los que es / spanish ✓\n",
      "Train accuracy: 0.9856\n",
      "4150 83% (5m 38s) 0.0267 0.0368 uerra, ni en ninguna cosa se le ocupara; libre est / spanish ✓\n",
      "Train accuracy: 0.9845\n",
      "4200 84% (5m 42s) 0.0637 0.0658 uu ystavattarensa ja naapurin naiset ja sanoo: 'Il / finnish ✓\n",
      "Train accuracy: 0.9852\n",
      "4250 85% (5m 46s) 0.1156 0.1119 enkulu. Ukumkani wasezantsi uya kuxhobela imfazwe, / xhosa ✓\n",
      "Train accuracy: 0.9837\n",
      "4300 86% (5m 50s) 0.0162 0.0110 tombi zam; kungani na ukuba nihambe nam? Ndisenoon / xhosa ✓\n",
      "Train accuracy: 0.9835\n",
      "4350 87% (5m 54s) 0.0324 0.0196 h a stroke with the axe to cut down the tree, and  / english ✓\n",
      "Train accuracy: 0.9865\n",
      "4400 88% (5m 58s) 0.0918 0.0806 , sepse per te kerkesa e mbretit ishte e neveritsh / albanian ✓\n",
      "Train accuracy: 0.9876\n",
      "4450 89% (6m 2s) 0.0720 0.0468  til ham: \"Sa gor, som han siger, hug ham ned og j / danish ✓\n",
      "Train accuracy: 0.9847\n",
      "4500 90% (6m 6s) 0.0384 0.0222 moved; The righteous shall be had in everlasting r / english ✓\n",
      "Train accuracy: 0.9874\n",
      "4550 91% (6m 10s) 0.0393 0.0381 s la bruligitaj, kaj tavoligis ilin, por tegi la a / esperanto ✓\n",
      "Train accuracy: 0.9851\n",
      "4600 92% (6m 14s) 0.0068 0.0097 nocent, et tu seras heureux. Tu ne deplaceras poin / french ✓\n",
      "Train accuracy: 0.9862\n",
      "4650 93% (6m 18s) 0.0415 0.0358 ajo do te jetoje''. Dhe Jezusi u ngrit dhe e ndoqi / albanian ✓\n",
      "Train accuracy: 0.9851\n",
      "4700 94% (6m 23s) 0.0702 0.0466 e but the kingdom? And Saul eyed David from that d / english ✓\n",
      "Train accuracy: 0.9892\n",
      "4750 95% (6m 27s) 0.0524 0.0137 appelait Orpa, et l'autre Ruth; et ils demeurerent / french ✓\n",
      "Train accuracy: 0.9866\n",
      "4800 96% (6m 31s) 0.0339 0.0235 'iniquite ne l'affligeront plus comme auparavant,  / french ✓\n",
      "Train accuracy: 0.9847\n",
      "4850 97% (6m 35s) 0.0172 0.0397 r the children of Shemida: these were the male chi / english ✓\n",
      "Train accuracy: 0.9866\n",
      "4900 98% (6m 39s) 0.0226 0.0161 och forde henne till konungen. Hon var en mycket s / swedish ✓\n",
      "Train accuracy: 0.9861\n",
      "4950 99% (6m 43s) 0.0441 0.0160 se regardent l'un l'autre avec stupeur; leurs visa / french ✓\n",
      "Train accuracy: 0.989\n",
      "5000 100% (6m 47s) 0.0198 0.0264 ; ona acimayacaksiniz. <<Torbanizda biri agir, obu / turkish ✓\n",
      "Train accuracy: 0.9903\n"
     ]
    }
   ],
   "source": [
    "n_iters = 5000 #2000 #100000\n",
    "print_every = 50\n",
    "plot_every = 50\n",
    "\n",
    "\n",
    "# Keep track of losses for plotting\n",
    "current_loss = 0\n",
    "current_test_loss = 0\n",
    "all_losses = []\n",
    "all_test_losses = []\n",
    "\n",
    "start = time.time()\n",
    "\n",
    "optimizer = torch.optim.AdamW(rnn.parameters(), lr=learning_rate)\n",
    "\n",
    "\n",
    "number_correct = 0\n",
    "for iter in range(1, n_iters + 1):\n",
    "    input_data, target_category, text_data = load_random_batch(train_category_data, chunk_len, BATCH_SIZE)\n",
    "    output, loss = train(rnn, target_category, input_data, optimizer, criterion)\n",
    "    current_loss += loss\n",
    "    \n",
    "    _, test_loss = eval_test(rnn, target_category, input_data)\n",
    "    current_test_loss += test_loss\n",
    "    \n",
    "    guess_i = categoryFromOutput(output)\n",
    "    number_correct += (target_category.squeeze()==guess_i.squeeze()).long().sum()\n",
    "    \n",
    "    \n",
    "\n",
    "    \n",
    "    # Print iter number, loss, name and guess\n",
    "    if iter % print_every == 0:\n",
    "        sample_idx = 0\n",
    "        guess = all_categories[guess_i[sample_idx]]\n",
    "        \n",
    "        category = all_categories[int(target_category[sample_idx])]\n",
    "        \n",
    "        correct = '✓' if guess == category else '✗ (%s)' % category\n",
    "        print('%d %d%% (%s) %.4f %.4f %s / %s %s' % (iter, iter / n_iters * 100, time_since(start), loss, test_loss, text_data[sample_idx], guess, correct))\n",
    "        print('Train accuracy: {}'.format(float(number_correct)/float(print_every*BATCH_SIZE)))\n",
    "        number_correct = 0\n",
    "    \n",
    "    # Add current loss avg to list of losses\n",
    "    if iter % plot_every == 0:\n",
    "        all_losses.append(current_loss / plot_every)\n",
    "        current_loss = 0\n",
    "        all_test_losses.append(current_test_loss / plot_every)\n",
    "        current_test_loss = 0"
   ]
  },
  {
   "cell_type": "markdown",
   "metadata": {},
   "source": [
    "Plot loss functions\n",
    "--------------------\n",
    "\n"
   ]
  },
  {
   "cell_type": "code",
   "execution_count": 30,
   "metadata": {
    "scrolled": true,
    "tags": []
   },
   "outputs": [
    {
     "data": {
      "text/plain": [
       "[<matplotlib.lines.Line2D at 0x7f916c1962b0>]"
      ]
     },
     "execution_count": 30,
     "metadata": {},
     "output_type": "execute_result"
    },
    {
     "data": {
      "image/png": "[encoded data removed]",
      "text/plain": [
       "<Figure size 432x288 with 1 Axes>"
      ]
     },
     "metadata": {
      "needs_background": "light"
     },
     "output_type": "display_data"
    }
   ],
   "source": [
    "import matplotlib.pyplot as plt\n",
    "import matplotlib.ticker as ticker\n",
    "\n",
    "plt.figure()\n",
    "plt.plot(all_losses, color='b')\n",
    "plt.plot(all_test_losses, color='r')"
   ]
  },
  {
   "cell_type": "markdown",
   "metadata": {},
   "source": [
    "Evaluate results\n",
    "-------------------\n",
    "\n",
    "We now vizualize the performance of our model by creating a confusion matrix. The ground truth languages of samples are represented by rows in the matrix while the predicted languages are represented by columns.\n",
    "\n",
    "In this evaluation we consider sequences of variable sizes rather than the fixed length sequences we used for training."
   ]
  },
  {
   "cell_type": "code",
   "execution_count": 31,
   "metadata": {
    "tags": []
   },
   "outputs": [
    {
     "name": "stdout",
     "output_type": "stream",
     "text": [
      "Test accuracy:  0.911\n"
     ]
    },
    {
     "name": "stderr",
     "output_type": "stream",
     "text": [
      "/tmp/ipykernel_536864/2018562961.py:35: UserWarning: FixedFormatter should only be used together with FixedLocator\n",
      "  ax.set_xticklabels([''] + all_categories, rotation=90)\n",
      "/tmp/ipykernel_536864/2018562961.py:36: UserWarning: FixedFormatter should only be used together with FixedLocator\n",
      "  ax.set_yticklabels([''] + all_categories)\n"
     ]
    },
    {
     "data": {
      "image/png": "[encoded data removed]",
      "text/plain": [
       "<Figure size 432x288 with 2 Axes>"
      ]
     },
     "metadata": {
      "needs_background": "light"
     },
     "output_type": "display_data"
    }
   ],
   "source": [
    "eval_batch_size = 1  # needs to be set to 1 for evaluating different sequence lengths\n",
    "\n",
    "# Keep track of correct guesses in a confusion matrix\n",
    "confusion = torch.zeros(n_languages, n_languages)\n",
    "n_confusion = 1000\n",
    "num_correct = 0\n",
    "total = 0\n",
    "\n",
    "for i in range(n_confusion):\n",
    "    eval_chunk_len = random.randint(10, 50) # in evaluation we will look at sequences of variable sizes\n",
    "    input_data, target_category, text_data = load_random_batch(test_category_data, chunk_len=eval_chunk_len, batch_size=eval_batch_size)\n",
    "    output = evaluate(rnn, input_data, seq_len=eval_chunk_len, batch_size=eval_batch_size)\n",
    "    \n",
    "    guess_i = categoryFromOutput(output)\n",
    "    category_i = [int(target_category[idx]) for idx in range(len(target_category))]\n",
    "    for j in range(eval_batch_size):\n",
    "        category = all_categories[category_i[j]] \n",
    "        confusion[category_i[j]][guess_i[j]] += 1\n",
    "        num_correct += int(guess_i[j]==category_i[j])\n",
    "        total += 1\n",
    "\n",
    "print('Test accuracy: ', float(num_correct)/float(n_confusion*eval_batch_size))\n",
    "\n",
    "# Normalize by dividing every row by its sum\n",
    "for i in range(n_languages):\n",
    "    confusion[i] = confusion[i] / confusion[i].sum()\n",
    "\n",
    "# Set up plot\n",
    "fig = plt.figure()\n",
    "ax = fig.add_subplot(111)\n",
    "cax = ax.matshow(confusion.numpy())\n",
    "fig.colorbar(cax)\n",
    "\n",
    "# Set up axes\n",
    "ax.set_xticklabels([''] + all_categories, rotation=90)\n",
    "ax.set_yticklabels([''] + all_categories)\n",
    "\n",
    "# Force label at every tick\n",
    "ax.xaxis.set_major_locator(ticker.MultipleLocator(1))\n",
    "ax.yaxis.set_major_locator(ticker.MultipleLocator(1))\n",
    "\n",
    "plt.show()"
   ]
  },
  {
   "cell_type": "markdown",
   "metadata": {},
   "source": [
    "You can pick out bright spots off the main axis that show which\n",
    "languages it guesses incorrectly.\n",
    "\n",
    "\n"
   ]
  },
  {
   "cell_type": "markdown",
   "metadata": {},
   "source": [
    "Run on User Input\n",
    "---------------------\n",
    "\n",
    "Now you can test your model on your own input. \n"
   ]
  },
  {
   "cell_type": "code",
   "execution_count": 32,
   "metadata": {
    "tags": []
   },
   "outputs": [
    {
     "name": "stdout",
     "output_type": "stream",
     "text": [
      "\n",
      "> This is a phrase to test the model on user input\n",
      "(17.21) english\n",
      "(3.22) french\n",
      "(2.07) german\n",
      "(1.69) italian\n",
      "(0.79) norwegian\n"
     ]
    }
   ],
   "source": [
    "def predict(input_line, n_predictions=5):\n",
    "    print('\\n> %s' % input_line)\n",
    "    with torch.no_grad():\n",
    "        input_data = stringToTensor(input_line).long().unsqueeze(0).to(device)\n",
    "        output = evaluate(rnn, input_data, seq_len=len(input_line), batch_size=1)\n",
    "\n",
    "    # Get top N categories\n",
    "    topv, topi = output.topk(n_predictions, dim=1)\n",
    "    predictions = []\n",
    "\n",
    "    for i in range(n_predictions):\n",
    "        topv.shape\n",
    "        topi.shape\n",
    "        value = topv[0][i].item()\n",
    "        category_index = topi[0][i].item()\n",
    "        print('(%.2f) %s' % (value, all_categories[category_index]))\n",
    "        predictions.append([value, all_categories[category_index]])\n",
    "\n",
    "predict('This is a phrase to test the model on user input')\n"
   ]
  },
  {
   "cell_type": "markdown",
   "metadata": {},
   "source": [
    "# Output Kaggle submission file\n",
    "\n",
    "Once you have found a good set of hyperparameters submit the output of your model on the Kaggle test file."
   ]
  },
  {
   "cell_type": "code",
   "execution_count": 33,
   "metadata": {
    "tags": []
   },
   "outputs": [],
   "source": [
    "### DO NOT CHANGE KAGGLE SUBMISSION CODE ####\n",
    "import csv\n",
    "\n",
    "kaggle_test_file_path = 'language_data/kaggle_rnn_language_classification_test.txt'\n",
    "with open(kaggle_test_file_path, 'r') as f:\n",
    "    lines = f.readlines()\n",
    "\n",
    "output_rows = []\n",
    "for i, line in enumerate(lines):\n",
    "    sample = line.rstrip()\n",
    "    sample_chunk_len = len(sample)\n",
    "    input_data = stringToTensor(sample).unsqueeze(0)\n",
    "    output = evaluate(rnn, input_data, seq_len=sample_chunk_len, batch_size=1)\n",
    "    guess_i = categoryFromOutput(output)\n",
    "    output_rows.append((str(i+1), all_categories[guess_i]))\n",
    "\n",
    "submission_file_path = 'kaggle_rnn_submission.csv'\n",
    "with open(submission_file_path, 'w') as f:\n",
    "    output_rows = [('id', 'category')] + output_rows\n",
    "    writer = csv.writer(f)\n",
    "    writer.writerows(output_rows)\n"
   ]
  },
  {
   "cell_type": "code",
   "execution_count": null,
   "metadata": {},
   "outputs": [],
   "source": []
  },
  {
   "cell_type": "code",
   "execution_count": null,
   "metadata": {},
   "outputs": [],
   "source": []
  }
 ],
 "metadata": {
  "kernelspec": {
   "display_name": "Python 3 (ipykernel)",
   "language": "python",
   "name": "python3"
  },
  "language_info": {
   "codemirror_mode": {
    "name": "ipython",
    "version": 3
   },
   "file_extension": ".py",
   "mimetype": "text/x-python",
   "name": "python",
   "nbconvert_exporter": "python",
   "pygments_lexer": "ipython3",
   "version": "3.12.5"
  }
 },
 "nbformat": 4,
 "nbformat_minor": 4
}
